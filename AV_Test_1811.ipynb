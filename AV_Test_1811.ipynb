{
 "cells": [
  {
   "cell_type": "code",
   "execution_count": 335,
   "metadata": {
    "collapsed": true
   },
   "outputs": [],
   "source": [
    "import pandas as pd\n",
    "import numpy as np\n",
    "import matplotlib.pyplot as plt\n",
    "import seaborn as sns\n",
    "%matplotlib inline"
   ]
  },
  {
   "cell_type": "code",
   "execution_count": 336,
   "metadata": {
    "collapsed": true
   },
   "outputs": [],
   "source": [
    "VehicleData = pd.read_csv('AV_18112017.csv')"
   ]
  },
  {
   "cell_type": "code",
   "execution_count": 337,
   "metadata": {},
   "outputs": [
    {
     "data": {
      "text/html": [
       "<div>\n",
       "<style>\n",
       "    .dataframe thead tr:only-child th {\n",
       "        text-align: right;\n",
       "    }\n",
       "\n",
       "    .dataframe thead th {\n",
       "        text-align: left;\n",
       "    }\n",
       "\n",
       "    .dataframe tbody tr th {\n",
       "        vertical-align: top;\n",
       "    }\n",
       "</style>\n",
       "<table border=\"1\" class=\"dataframe\">\n",
       "  <thead>\n",
       "    <tr style=\"text-align: right;\">\n",
       "      <th></th>\n",
       "      <th>ID</th>\n",
       "      <th>DateTime</th>\n",
       "      <th>Junction</th>\n",
       "      <th>Vehicles</th>\n",
       "      <th>WeekDay</th>\n",
       "      <th>Date</th>\n",
       "      <th>Month</th>\n",
       "      <th>Year</th>\n",
       "      <th>Time</th>\n",
       "      <th>Sunday</th>\n",
       "      <th>Monday</th>\n",
       "      <th>Tuesday</th>\n",
       "      <th>Wednesday</th>\n",
       "      <th>Thursday</th>\n",
       "      <th>Friday</th>\n",
       "      <th>Saturday</th>\n",
       "      <th>Weekend</th>\n",
       "      <th>Weekday</th>\n",
       "    </tr>\n",
       "  </thead>\n",
       "  <tbody>\n",
       "    <tr>\n",
       "      <th>0</th>\n",
       "      <td>20151101001</td>\n",
       "      <td>11/1/2015 0:00</td>\n",
       "      <td>1</td>\n",
       "      <td>15</td>\n",
       "      <td>1</td>\n",
       "      <td>1</td>\n",
       "      <td>11</td>\n",
       "      <td>2015</td>\n",
       "      <td>0</td>\n",
       "      <td>1</td>\n",
       "      <td>0</td>\n",
       "      <td>0</td>\n",
       "      <td>0</td>\n",
       "      <td>0</td>\n",
       "      <td>0</td>\n",
       "      <td>0</td>\n",
       "      <td>1</td>\n",
       "      <td>0</td>\n",
       "    </tr>\n",
       "    <tr>\n",
       "      <th>1</th>\n",
       "      <td>20151101011</td>\n",
       "      <td>11/1/2015 1:00</td>\n",
       "      <td>1</td>\n",
       "      <td>13</td>\n",
       "      <td>1</td>\n",
       "      <td>1</td>\n",
       "      <td>11</td>\n",
       "      <td>2015</td>\n",
       "      <td>1</td>\n",
       "      <td>1</td>\n",
       "      <td>0</td>\n",
       "      <td>0</td>\n",
       "      <td>0</td>\n",
       "      <td>0</td>\n",
       "      <td>0</td>\n",
       "      <td>0</td>\n",
       "      <td>1</td>\n",
       "      <td>0</td>\n",
       "    </tr>\n",
       "    <tr>\n",
       "      <th>2</th>\n",
       "      <td>20151101021</td>\n",
       "      <td>11/1/2015 2:00</td>\n",
       "      <td>1</td>\n",
       "      <td>10</td>\n",
       "      <td>1</td>\n",
       "      <td>1</td>\n",
       "      <td>11</td>\n",
       "      <td>2015</td>\n",
       "      <td>2</td>\n",
       "      <td>1</td>\n",
       "      <td>0</td>\n",
       "      <td>0</td>\n",
       "      <td>0</td>\n",
       "      <td>0</td>\n",
       "      <td>0</td>\n",
       "      <td>0</td>\n",
       "      <td>1</td>\n",
       "      <td>0</td>\n",
       "    </tr>\n",
       "    <tr>\n",
       "      <th>3</th>\n",
       "      <td>20151101031</td>\n",
       "      <td>11/1/2015 3:00</td>\n",
       "      <td>1</td>\n",
       "      <td>7</td>\n",
       "      <td>1</td>\n",
       "      <td>1</td>\n",
       "      <td>11</td>\n",
       "      <td>2015</td>\n",
       "      <td>3</td>\n",
       "      <td>1</td>\n",
       "      <td>0</td>\n",
       "      <td>0</td>\n",
       "      <td>0</td>\n",
       "      <td>0</td>\n",
       "      <td>0</td>\n",
       "      <td>0</td>\n",
       "      <td>1</td>\n",
       "      <td>0</td>\n",
       "    </tr>\n",
       "    <tr>\n",
       "      <th>4</th>\n",
       "      <td>20151101041</td>\n",
       "      <td>11/1/2015 4:00</td>\n",
       "      <td>1</td>\n",
       "      <td>9</td>\n",
       "      <td>1</td>\n",
       "      <td>1</td>\n",
       "      <td>11</td>\n",
       "      <td>2015</td>\n",
       "      <td>4</td>\n",
       "      <td>1</td>\n",
       "      <td>0</td>\n",
       "      <td>0</td>\n",
       "      <td>0</td>\n",
       "      <td>0</td>\n",
       "      <td>0</td>\n",
       "      <td>0</td>\n",
       "      <td>1</td>\n",
       "      <td>0</td>\n",
       "    </tr>\n",
       "  </tbody>\n",
       "</table>\n",
       "</div>"
      ],
      "text/plain": [
       "            ID        DateTime  Junction  Vehicles  WeekDay  Date  Month  \\\n",
       "0  20151101001  11/1/2015 0:00         1        15        1     1     11   \n",
       "1  20151101011  11/1/2015 1:00         1        13        1     1     11   \n",
       "2  20151101021  11/1/2015 2:00         1        10        1     1     11   \n",
       "3  20151101031  11/1/2015 3:00         1         7        1     1     11   \n",
       "4  20151101041  11/1/2015 4:00         1         9        1     1     11   \n",
       "\n",
       "   Year  Time  Sunday  Monday  Tuesday  Wednesday  Thursday  Friday  Saturday  \\\n",
       "0  2015     0       1       0        0          0         0       0         0   \n",
       "1  2015     1       1       0        0          0         0       0         0   \n",
       "2  2015     2       1       0        0          0         0       0         0   \n",
       "3  2015     3       1       0        0          0         0       0         0   \n",
       "4  2015     4       1       0        0          0         0       0         0   \n",
       "\n",
       "   Weekend  Weekday  \n",
       "0        1        0  \n",
       "1        1        0  \n",
       "2        1        0  \n",
       "3        1        0  \n",
       "4        1        0  "
      ]
     },
     "execution_count": 337,
     "metadata": {},
     "output_type": "execute_result"
    }
   ],
   "source": [
    "VehicleData.head()"
   ]
  },
  {
   "cell_type": "code",
   "execution_count": 338,
   "metadata": {
    "collapsed": true
   },
   "outputs": [],
   "source": [
    "VehicleData['Vehicles'] = VehicleData['Vehicles'].astype(float)"
   ]
  },
  {
   "cell_type": "code",
   "execution_count": 339,
   "metadata": {
    "collapsed": true
   },
   "outputs": [],
   "source": [
    "def time_group(Time):\n",
    "    vTime_Grp = \"A\"\n",
    "    if Time == 3:\n",
    "       vTime_Grp = \"B\"\n",
    "    elif Time == 4:\n",
    "        vTime_Grp = \"B\"\n",
    "    elif Time == 5:\n",
    "        vTime_Grp = \"B\"\n",
    "    elif Time == 6:\n",
    "        vTime_Grp = \"B\"\n",
    "    elif Time == 7:\n",
    "        vTime_Grp = \"B\"\n",
    "    elif Time == 0:\n",
    "        vTime_Grp = \"C\"\n",
    "    elif Time == 1:\n",
    "        vTime_Grp = \"C\"\n",
    "    elif Time == 2:\n",
    "        vTime_Grp = \"C\"\n",
    "    elif Time == 8:\n",
    "        vTime_Grp = \"C\"\n",
    "    elif Time == 9:\n",
    "        vTime_Grp = \"C\"\n",
    "    elif Time == 10:\n",
    "        vTime_Grp = \"C\"\n",
    "    elif Time == 23:\n",
    "        vTime_Grp = \"C\"\n",
    "    else:\n",
    "        vTime_Grp = \"A\"\n",
    "    return vTime_Grp"
   ]
  },
  {
   "cell_type": "code",
   "execution_count": 340,
   "metadata": {
    "collapsed": true
   },
   "outputs": [],
   "source": [
    "def month_group(Mon):\n",
    "    vMonth_Grp = \"X\"\n",
    "    if Mon == 1:\n",
    "       vMonth_Grp = \"Y\"\n",
    "    elif Mon == 11:\n",
    "        vMonth_Grp = \"Y\"\n",
    "    elif Mon == 12:\n",
    "        vMonth_Grp = \"Y\"\n",
    "    elif Mon == 2:\n",
    "        vMonth_Grp = \"Z\"\n",
    "    elif Mon == 3:\n",
    "        vMonth_Grp = \"Z\"\n",
    "    elif Mon == 7:\n",
    "        vMonth_Grp = \"Z\"\n",
    "    elif Mon == 8:\n",
    "        vMonth_Grp = \"Z\"\n",
    "    else:\n",
    "        vMonth_Grp = \"X\"\n",
    "    return vMonth_Grp"
   ]
  },
  {
   "cell_type": "code",
   "execution_count": 341,
   "metadata": {
    "collapsed": true
   },
   "outputs": [],
   "source": [
    "VehicleData['Time_GRP'] = VehicleData['Time'].apply(time_group)\n",
    "VehicleData['Month_GRP'] = VehicleData['Month'].apply(month_group)"
   ]
  },
  {
   "cell_type": "code",
   "execution_count": 342,
   "metadata": {
    "collapsed": true
   },
   "outputs": [],
   "source": [
    "Month_1 = pd.get_dummies(VehicleData['Month_GRP'],drop_first=True)\n",
    "Time_1 = pd.get_dummies(VehicleData['Time_GRP'],drop_first=True)\n",
    "Year_1 = pd.get_dummies(VehicleData['Year'],drop_first=True)"
   ]
  },
  {
   "cell_type": "code",
   "execution_count": 343,
   "metadata": {},
   "outputs": [
    {
     "name": "stdout",
     "output_type": "stream",
     "text": [
      "<class 'pandas.core.frame.DataFrame'>\n",
      "RangeIndex: 48120 entries, 0 to 48119\n",
      "Data columns (total 26 columns):\n",
      "ID           48120 non-null int64\n",
      "DateTime     48120 non-null object\n",
      "Junction     48120 non-null int64\n",
      "Vehicles     48120 non-null float64\n",
      "WeekDay      48120 non-null int64\n",
      "Date         48120 non-null int64\n",
      "Month        48120 non-null int64\n",
      "Year         48120 non-null int64\n",
      "Time         48120 non-null int64\n",
      "Sunday       48120 non-null int64\n",
      "Monday       48120 non-null int64\n",
      "Tuesday      48120 non-null int64\n",
      "Wednesday    48120 non-null int64\n",
      "Thursday     48120 non-null int64\n",
      "Friday       48120 non-null int64\n",
      "Saturday     48120 non-null int64\n",
      "Weekend      48120 non-null int64\n",
      "Weekday      48120 non-null int64\n",
      "Time_GRP     48120 non-null object\n",
      "Month_GRP    48120 non-null object\n",
      "2016         48120 non-null uint8\n",
      "2017         48120 non-null uint8\n",
      "Y            48120 non-null uint8\n",
      "Z            48120 non-null uint8\n",
      "B            48120 non-null uint8\n",
      "C            48120 non-null uint8\n",
      "dtypes: float64(1), int64(16), object(3), uint8(6)\n",
      "memory usage: 7.1+ MB\n"
     ]
    }
   ],
   "source": [
    "VehicleData1 = pd.concat([VehicleData,Year_1],axis=1)\n",
    "VehicleData2 = pd.concat([VehicleData1,Month_1],axis=1)\n",
    "VehicleData3 = pd.concat([VehicleData2,Time_1],axis=1)\n",
    "VehicleData3.info()"
   ]
  },
  {
   "cell_type": "code",
   "execution_count": 377,
   "metadata": {
    "collapsed": true
   },
   "outputs": [],
   "source": [
    "VehicleData_1 = VehicleData3[VehicleData3['Junction'] == 1]\n",
    "VehicleData_2 = VehicleData3[VehicleData3['Junction'] == 2]\n",
    "VehicleData_3 = VehicleData3[VehicleData3['Junction'] == 3]\n",
    "VehicleData_4 = VehicleData3[VehicleData3['Junction'] == 4]"
   ]
  },
  {
   "cell_type": "code",
   "execution_count": 378,
   "metadata": {
    "collapsed": true
   },
   "outputs": [],
   "source": [
    "from sklearn import metrics"
   ]
  },
  {
   "cell_type": "code",
   "execution_count": 430,
   "metadata": {},
   "outputs": [
    {
     "name": "stdout",
     "output_type": "stream",
     "text": [
      "('MAE:', 7.485924984386946)\n",
      "('MSE:', 95.002684211632854)\n",
      "('RMSE:', 9.7469320409877103)\n"
     ]
    }
   ],
   "source": [
    "##X1 = VehicleData_1[['Date','Month','Year','Time','B','C','Weekend','Weekday','Y','Z','Saturday','Sunday','Monday','Tuesday','Wednesday','Thursday','Friday']]\n",
    "X1 = VehicleData_1[['Date','Month','Year','Time','B','C','Weekend','Y','Z']]\n",
    "y1 = VehicleData_1['Vehicles']\n",
    "y1 = y1.apply(pd.to_numeric, errors='coerce')\n",
    "from sklearn.model_selection import train_test_split\n",
    "X_train1, X_test1, y_train1, y_test1 = train_test_split(X1, y1, test_size=0.3, random_state=101)\n",
    "from sklearn.linear_model import LinearRegression\n",
    "lm1 = LinearRegression()\n",
    "lm1.fit(X_train1,y_train1)\n",
    "predictions = lm1.predict(X_test1)\n",
    "print('MAE:', metrics.mean_absolute_error(y_test1, predictions))\n",
    "print('MSE:', metrics.mean_squared_error(y_test1, predictions))\n",
    "print('RMSE:', np.sqrt(metrics.mean_squared_error(y_test1, predictions)))"
   ]
  },
  {
   "cell_type": "code",
   "execution_count": 431,
   "metadata": {},
   "outputs": [
    {
     "name": "stdout",
     "output_type": "stream",
     "text": [
      "('MAE:', 3.1162350530630225)\n",
      "('MSE:', 17.669388508735633)\n",
      "('RMSE:', 4.2034971760113784)\n"
     ]
    }
   ],
   "source": [
    "##X2 = VehicleData_2[['Date','Month','Year','Time','B','C','Weekend','Weekday','Y','Z','Saturday','Sunday','Monday','Tuesday','Wednesday','Thursday','Friday']]\n",
    "X2 = VehicleData_2[['Date','Month','Year','Time','B','C','Weekend','Y','Z']]\n",
    "y2 = VehicleData_2['Vehicles']\n",
    "y2 = y2.apply(pd.to_numeric, errors='coerce')\n",
    "from sklearn.model_selection import train_test_split\n",
    "X_train2, X_test2, y_train2, y_test2 = train_test_split(X2, y2, test_size=0.3, random_state=101)\n",
    "from sklearn.linear_model import LinearRegression\n",
    "lm2 = LinearRegression()\n",
    "lm2.fit(X_train2,y_train2)\n",
    "predictions = lm2.predict(X_test2)\n",
    "print('MAE:', metrics.mean_absolute_error(y_test2, predictions))\n",
    "print('MSE:', metrics.mean_squared_error(y_test2, predictions))\n",
    "print('RMSE:', np.sqrt(metrics.mean_squared_error(y_test2, predictions)))"
   ]
  },
  {
   "cell_type": "code",
   "execution_count": 432,
   "metadata": {},
   "outputs": [
    {
     "name": "stdout",
     "output_type": "stream",
     "text": [
      "('MAE:', 5.1361866673746439)\n",
      "('MSE:', 70.682478956551009)\n",
      "('RMSE:', 8.4072872531245775)\n"
     ]
    }
   ],
   "source": [
    "##X3 = VehicleData_3[['Date','Month','Year','Time','B','C','Weekend','Weekday','Y','Z','Saturday','Sunday','Monday','Tuesday','Wednesday','Thursday','Friday']]\n",
    "X3 = VehicleData_3[['Date','Month','Year','Time','B','C','Weekend','Y','Z']]\n",
    "y3 = VehicleData_3['Vehicles']\n",
    "y3 = y3.apply(pd.to_numeric, errors='coerce')\n",
    "from sklearn.model_selection import train_test_split\n",
    "X_train3, X_test3, y_train3, y_test3 = train_test_split(X3, y3, test_size=0.3, random_state=101)\n",
    "from sklearn.linear_model import LinearRegression\n",
    "lm3 = LinearRegression()\n",
    "lm3.fit(X_train3,y_train3)\n",
    "predictions = lm3.predict(X_test3)\n",
    "print('MAE:', metrics.mean_absolute_error(y_test3, predictions))\n",
    "print('MSE:', metrics.mean_squared_error(y_test3, predictions))\n",
    "print('RMSE:', np.sqrt(metrics.mean_squared_error(y_test3, predictions)))"
   ]
  },
  {
   "cell_type": "code",
   "execution_count": 433,
   "metadata": {},
   "outputs": [
    {
     "name": "stdout",
     "output_type": "stream",
     "text": [
      "('MAE:', 2.0041604806716617)\n",
      "('MSE:', 7.1457330471501983)\n",
      "('RMSE:', 2.6731503974056898)\n"
     ]
    }
   ],
   "source": [
    "##X4 = VehicleData_4[['Date','Month','Year','Time','B','C','Weekend','Weekday','Y','Z','Saturday','Sunday','Monday','Tuesday','Wednesday','Thursday','Friday']]\n",
    "X4 = VehicleData_4[['Date','Month','Year','Time','B','C','Weekend','Y','Z']]\n",
    "y4 = VehicleData_4['Vehicles']\n",
    "y4 = y4.apply(pd.to_numeric, errors='coerce')\n",
    "from sklearn.model_selection import train_test_split\n",
    "X_train4, X_test4, y_train4, y_test4 = train_test_split(X4, y4, test_size=0.3, random_state=101)\n",
    "from sklearn.linear_model import LinearRegression\n",
    "lm4 = LinearRegression()\n",
    "lm4.fit(X_train4,y_train4)\n",
    "predictions = lm4.predict(X_test4)\n",
    "print('MAE:', metrics.mean_absolute_error(y_test4, predictions))\n",
    "print('MSE:', metrics.mean_squared_error(y_test4, predictions))\n",
    "print('RMSE:', np.sqrt(metrics.mean_squared_error(y_test4, predictions)))"
   ]
  },
  {
   "cell_type": "code",
   "execution_count": 434,
   "metadata": {},
   "outputs": [
    {
     "name": "stdout",
     "output_type": "stream",
     "text": [
      "('MAE:', 17.182960255824579)\n",
      "('MSE:', 575.82983097304702)\n",
      "('RMSE:', 23.996454550058996)\n"
     ]
    }
   ],
   "source": [
    "##X1 = VehicleData_1[['Date','Month','Year','Time','B','C','Weekend','Weekday','Y','Z','Saturday','Sunday','Monday','Tuesday','Wednesday','Thursday','Friday']]\n",
    "X1 = VehicleData_1[['Date','Month','Year','Time','B','C','Weekend','Y','Z']]\n",
    "y1 = VehicleData_1['Vehicles']\n",
    "y1 = y1.apply(pd.to_numeric, errors='coerce')\n",
    "from sklearn.linear_model import LogisticRegression\n",
    "logmodel1 = LogisticRegression()\n",
    "logmodel1.fit(X_train1,y_train1)\n",
    "predictions = logmodel1.predict(X_test1)\n",
    "print('MAE:', metrics.mean_absolute_error(y_test1, predictions))\n",
    "print('MSE:', metrics.mean_squared_error(y_test1, predictions))\n",
    "print('RMSE:', np.sqrt(metrics.mean_squared_error(y_test1, predictions)))"
   ]
  },
  {
   "cell_type": "code",
   "execution_count": 435,
   "metadata": {},
   "outputs": [
    {
     "name": "stdout",
     "output_type": "stream",
     "text": [
      "('MAE:', 4.7126541799908637)\n",
      "('MSE:', 46.593421653723162)\n",
      "('RMSE:', 6.8259374194115754)\n"
     ]
    }
   ],
   "source": [
    "##X2 = VehicleData_2[['Date','Month','Year','Time','B','C','Weekend','Weekday','Y','Z','Saturday','Sunday','Monday','Tuesday','Wednesday','Thursday','Friday']]\n",
    "X2 = VehicleData_2[['Date','Month','Year','Time','B','C','Weekend','Y','Z']]\n",
    "y2 = VehicleData_2['Vehicles']\n",
    "y2 = y2.apply(pd.to_numeric, errors='coerce')\n",
    "from sklearn.linear_model import LogisticRegression\n",
    "logmodel2 = LogisticRegression()\n",
    "logmodel2.fit(X_train2,y_train2)\n",
    "predictions = logmodel2.predict(X_test2)\n",
    "print('MAE:', metrics.mean_absolute_error(y_test2, predictions))\n",
    "print('MSE:', metrics.mean_squared_error(y_test2, predictions))\n",
    "print('RMSE:', np.sqrt(metrics.mean_squared_error(y_test2, predictions)))\n",
    "\n"
   ]
  },
  {
   "cell_type": "code",
   "execution_count": 436,
   "metadata": {},
   "outputs": [
    {
     "name": "stdout",
     "output_type": "stream",
     "text": [
      "('MAE:', 5.7875742348104158)\n",
      "('MSE:', 94.5678391959799)\n",
      "('RMSE:', 9.7245996933539587)\n"
     ]
    }
   ],
   "source": [
    "##X3 = VehicleData_3[['Date','Month','Year','Time','B','C','Weekend','Weekday','Y','Z','Saturday','Sunday','Monday','Tuesday','Wednesday','Thursday','Friday']]\n",
    "X3 = VehicleData_3[['Date','Month','Year','Time','B','C','Weekend','Y','Z']]\n",
    "y3 = VehicleData_3['Vehicles']\n",
    "y3 = y3.apply(pd.to_numeric, errors='coerce')\n",
    "from sklearn.linear_model import LogisticRegression\n",
    "logmodel3 = LogisticRegression()\n",
    "logmodel3.fit(X_train3,y_train3)\n",
    "predictions = logmodel3.predict(X_test3)\n",
    "##predictions = lm.predict(X_test3)\n",
    "print('MAE:', metrics.mean_absolute_error(y_test3, predictions))\n",
    "print('MSE:', metrics.mean_squared_error(y_test3, predictions))\n",
    "print('RMSE:', np.sqrt(metrics.mean_squared_error(y_test3, predictions)))\n",
    "\n"
   ]
  },
  {
   "cell_type": "code",
   "execution_count": 437,
   "metadata": {},
   "outputs": [
    {
     "name": "stdout",
     "output_type": "stream",
     "text": [
      "('MAE:', 2.0789877300613497)\n",
      "('MSE:', 8.1786809815950914)\n",
      "('RMSE:', 2.8598393279334928)\n"
     ]
    }
   ],
   "source": [
    "##X4 = VehicleData_4[['Date','Month','Year','Time','B','C','Weekend','Weekday','Y','Z','Saturday','Sunday','Monday','Tuesday','Wednesday','Thursday','Friday']]\n",
    "X4 = VehicleData_4[['Date','Month','Year','Time','B','C','Weekend','Y','Z']]\n",
    "y4 = VehicleData_4['Vehicles']\n",
    "y4 = y4.apply(pd.to_numeric, errors='coerce')\n",
    "from sklearn.linear_model import LogisticRegression\n",
    "logmodel4 = LogisticRegression()\n",
    "logmodel4.fit(X_train4,y_train4)\n",
    "predictions = logmodel4.predict(X_test4)\n",
    "print('MAE:', metrics.mean_absolute_error(y_test4, predictions))\n",
    "print('MSE:', metrics.mean_squared_error(y_test4, predictions))\n",
    "print('RMSE:', np.sqrt(metrics.mean_squared_error(y_test4, predictions)))"
   ]
  },
  {
   "cell_type": "code",
   "execution_count": 416,
   "metadata": {},
   "outputs": [
    {
     "name": "stdout",
     "output_type": "stream",
     "text": [
      "('MAE:', 4.2592507994518041)\n",
      "('MSE:', 36.686386477843762)\n",
      "('RMSE:', 6.0569287991393592)\n"
     ]
    }
   ],
   "source": [
    "##X1 = VehicleData_1[['Date','Month','Year','Time','B','C','Weekend','Weekday','Y','Z','Saturday','Sunday','Monday','Tuesday','Wednesday','Thursday','Friday']]\n",
    "X1 = VehicleData_1[['Date','Month','Year','Time','B','C','Weekend','Y','Z']]\n",
    "y1 = VehicleData_1['Vehicles']\n",
    "y1 = y1.apply(pd.to_numeric, errors='coerce')\n",
    "from sklearn.tree import DecisionTreeRegressor\n",
    "dtree1 = DecisionTreeRegressor()\n",
    "dtree1.fit(X_train1,y_train1)\n",
    "predictions = dtree1.predict(X_test1)\n",
    "print('MAE:', metrics.mean_absolute_error(y_test1, predictions))\n",
    "print('MSE:', metrics.mean_squared_error(y_test1, predictions))\n",
    "print('RMSE:', np.sqrt(metrics.mean_squared_error(y_test1, predictions)))"
   ]
  },
  {
   "cell_type": "code",
   "execution_count": 417,
   "metadata": {},
   "outputs": [
    {
     "name": "stdout",
     "output_type": "stream",
     "text": [
      "('MAE:', 2.5735495660118777)\n",
      "('MSE:', 11.06007309273641)\n",
      "('RMSE:', 3.3256688188598109)\n"
     ]
    }
   ],
   "source": [
    "##X2 = VehicleData_2[['Date','Month','Year','Time','B','C','Weekend','Weekday','Y','Z','Saturday','Sunday','Monday','Tuesday','Wednesday','Thursday','Friday']]\n",
    "X2 = VehicleData_2[['Date','Month','Year','Time','B','C','Weekend','Y','Z']]\n",
    "y2 = VehicleData_2['Vehicles']\n",
    "y2 = y2.apply(pd.to_numeric, errors='coerce')\n",
    "from sklearn.tree import DecisionTreeRegressor\n",
    "dtree2 = DecisionTreeRegressor()\n",
    "dtree2.fit(X_train2,y_train2)\n",
    "predictions = dtree2.predict(X_test2)\n",
    "print('MAE:', metrics.mean_absolute_error(y_test2, predictions))\n",
    "print('MSE:', metrics.mean_squared_error(y_test2, predictions))\n",
    "print('RMSE:', np.sqrt(metrics.mean_squared_error(y_test2, predictions)))"
   ]
  },
  {
   "cell_type": "code",
   "execution_count": 418,
   "metadata": {},
   "outputs": [
    {
     "name": "stdout",
     "output_type": "stream",
     "text": [
      "('MAE:', 3.4360438556418456)\n",
      "('MSE:', 31.619689355870261)\n",
      "('RMSE:', 5.6231387459203122)\n"
     ]
    }
   ],
   "source": [
    "##X3 = VehicleData_3[['Date','Month','Year','Time','B','C','Weekend','Weekday','Y','Z','Saturday','Sunday','Monday','Tuesday','Wednesday','Thursday','Friday']]\n",
    "X3 = VehicleData_3[['Date','Month','Year','Time','B','C','Weekend','Y','Z']]\n",
    "y3 = VehicleData_3['Vehicles']\n",
    "y3 = y3.apply(pd.to_numeric, errors='coerce')\n",
    "from sklearn.tree import DecisionTreeRegressor\n",
    "dtree3 = DecisionTreeRegressor()\n",
    "dtree3.fit(X_train3,y_train3)\n",
    "predictions = dtree3.predict(X_test3)\n",
    "print('MAE:', metrics.mean_absolute_error(y_test3, predictions))\n",
    "print('MSE:', metrics.mean_squared_error(y_test3, predictions))\n",
    "print('RMSE:', np.sqrt(metrics.mean_squared_error(y_test3, predictions)))"
   ]
  },
  {
   "cell_type": "code",
   "execution_count": 419,
   "metadata": {},
   "outputs": [
    {
     "name": "stdout",
     "output_type": "stream",
     "text": [
      "('MAE:', 2.4110429447852759)\n",
      "('MSE:', 10.420245398773005)\n",
      "('RMSE:', 3.2280404890231793)\n"
     ]
    }
   ],
   "source": [
    "##X4 = VehicleData_4[['Date','Month','Year','Time','B','C','Weekend','Weekday','Y','Z','Saturday','Sunday','Monday','Tuesday','Wednesday','Thursday','Friday']]\n",
    "X4 = VehicleData_4[['Date','Month','Year','Time','B','C','Weekend','Y','Z']]\n",
    "y4 = VehicleData_4['Vehicles']\n",
    "y4 = y4.apply(pd.to_numeric, errors='coerce')\n",
    "from sklearn.tree import DecisionTreeRegressor\n",
    "dtree4 = DecisionTreeRegressor()\n",
    "dtree4.fit(X_train4,y_train4)\n",
    "predictions = dtree4.predict(X_test4)\n",
    "print('MAE:', metrics.mean_absolute_error(y_test4, predictions))\n",
    "print('MSE:', metrics.mean_squared_error(y_test4, predictions))\n",
    "print('RMSE:', np.sqrt(metrics.mean_squared_error(y_test4, predictions)))"
   ]
  },
  {
   "cell_type": "code",
   "execution_count": 420,
   "metadata": {
    "collapsed": true
   },
   "outputs": [],
   "source": [
    "VehicleData_TEST = pd.read_csv('AV_18112017_Test.csv')"
   ]
  },
  {
   "cell_type": "code",
   "execution_count": 421,
   "metadata": {
    "collapsed": true
   },
   "outputs": [],
   "source": [
    "VehicleData_TEST['Time_GRP'] = VehicleData_TEST['Time'].apply(time_group)\n",
    "VehicleData_TEST['Month_GRP'] = VehicleData_TEST['Month'].apply(month_group)"
   ]
  },
  {
   "cell_type": "code",
   "execution_count": 422,
   "metadata": {
    "collapsed": true
   },
   "outputs": [],
   "source": [
    "Month_1 = pd.get_dummies(VehicleData_TEST['Month_GRP'],drop_first=True)\n",
    "Time_1 = pd.get_dummies(VehicleData_TEST['Time_GRP'],drop_first=True)\n",
    "Year_1 = pd.get_dummies(VehicleData_TEST['Year'],drop_first=True)"
   ]
  },
  {
   "cell_type": "code",
   "execution_count": 423,
   "metadata": {
    "collapsed": true
   },
   "outputs": [],
   "source": [
    "VehicleDataT1 = pd.concat([VehicleData_TEST,Year_1],axis=1)\n",
    "VehicleDataT2 = pd.concat([VehicleDataT1,Month_1],axis=1)\n",
    "VehicleDataT3 = pd.concat([VehicleDataT2,Time_1],axis=1)\n",
    "VehicleDataT3['Y'] = 0\n"
   ]
  },
  {
   "cell_type": "code",
   "execution_count": 424,
   "metadata": {
    "collapsed": true
   },
   "outputs": [],
   "source": [
    "VehicleData_T1 = VehicleDataT3[VehicleDataT3['Junction'] == 1]\n",
    "VehicleData_T2 = VehicleDataT3[VehicleDataT3['Junction'] == 2]\n",
    "VehicleData_T3 = VehicleDataT3[VehicleDataT3['Junction'] == 3]\n",
    "VehicleData_T4 = VehicleDataT3[VehicleDataT3['Junction'] == 4]"
   ]
  },
  {
   "cell_type": "code",
   "execution_count": 425,
   "metadata": {
    "collapsed": true
   },
   "outputs": [],
   "source": [
    "VehicleData_T1.to_csv(\"T1.csv\")\n",
    "VehicleData_T2.to_csv(\"T2.csv\")\n",
    "VehicleData_T3.to_csv(\"T3.csv\")\n",
    "VehicleData_T4.to_csv(\"T4.csv\")"
   ]
  },
  {
   "cell_type": "code",
   "execution_count": 426,
   "metadata": {
    "collapsed": true
   },
   "outputs": [],
   "source": [
    "VehicleData_T1 = pd.read_csv(\"T1.csv\")\n",
    "VehicleData_T2 = pd.read_csv(\"T2.csv\")\n",
    "VehicleData_T3 = pd.read_csv(\"T3.csv\")\n",
    "VehicleData_T4 = pd.read_csv(\"T4.csv\")"
   ]
  },
  {
   "cell_type": "code",
   "execution_count": 440,
   "metadata": {},
   "outputs": [
    {
     "data": {
      "text/html": [
       "<div>\n",
       "<style>\n",
       "    .dataframe thead tr:only-child th {\n",
       "        text-align: right;\n",
       "    }\n",
       "\n",
       "    .dataframe thead th {\n",
       "        text-align: left;\n",
       "    }\n",
       "\n",
       "    .dataframe tbody tr th {\n",
       "        vertical-align: top;\n",
       "    }\n",
       "</style>\n",
       "<table border=\"1\" class=\"dataframe\">\n",
       "  <thead>\n",
       "    <tr style=\"text-align: right;\">\n",
       "      <th></th>\n",
       "      <th>Unnamed: 0</th>\n",
       "      <th>DateTime</th>\n",
       "      <th>Junction</th>\n",
       "      <th>ID</th>\n",
       "      <th>WeekDay</th>\n",
       "      <th>Date</th>\n",
       "      <th>Month</th>\n",
       "      <th>Year</th>\n",
       "      <th>Time</th>\n",
       "      <th>Sunday</th>\n",
       "      <th>...</th>\n",
       "      <th>Weekday</th>\n",
       "      <th>Time_GRP</th>\n",
       "      <th>Month_GRP</th>\n",
       "      <th>Z</th>\n",
       "      <th>B</th>\n",
       "      <th>C</th>\n",
       "      <th>Y</th>\n",
       "      <th>0</th>\n",
       "      <th>0</th>\n",
       "      <th>0</th>\n",
       "    </tr>\n",
       "  </thead>\n",
       "  <tbody>\n",
       "    <tr>\n",
       "      <th>0</th>\n",
       "      <td>0</td>\n",
       "      <td>7/1/2017 0:00</td>\n",
       "      <td>1</td>\n",
       "      <td>20170701001</td>\n",
       "      <td>1</td>\n",
       "      <td>1</td>\n",
       "      <td>7</td>\n",
       "      <td>2017</td>\n",
       "      <td>0</td>\n",
       "      <td>1</td>\n",
       "      <td>...</td>\n",
       "      <td>0</td>\n",
       "      <td>C</td>\n",
       "      <td>Z</td>\n",
       "      <td>1</td>\n",
       "      <td>0</td>\n",
       "      <td>1</td>\n",
       "      <td>0</td>\n",
       "      <td>47.0</td>\n",
       "      <td>54.946524</td>\n",
       "      <td>23.0</td>\n",
       "    </tr>\n",
       "    <tr>\n",
       "      <th>1</th>\n",
       "      <td>1</td>\n",
       "      <td>7/1/2017 1:00</td>\n",
       "      <td>1</td>\n",
       "      <td>20170701011</td>\n",
       "      <td>1</td>\n",
       "      <td>1</td>\n",
       "      <td>7</td>\n",
       "      <td>2017</td>\n",
       "      <td>1</td>\n",
       "      <td>1</td>\n",
       "      <td>...</td>\n",
       "      <td>0</td>\n",
       "      <td>C</td>\n",
       "      <td>Z</td>\n",
       "      <td>1</td>\n",
       "      <td>0</td>\n",
       "      <td>1</td>\n",
       "      <td>0</td>\n",
       "      <td>53.0</td>\n",
       "      <td>55.260972</td>\n",
       "      <td>23.0</td>\n",
       "    </tr>\n",
       "    <tr>\n",
       "      <th>2</th>\n",
       "      <td>2</td>\n",
       "      <td>7/1/2017 2:00</td>\n",
       "      <td>1</td>\n",
       "      <td>20170701021</td>\n",
       "      <td>1</td>\n",
       "      <td>1</td>\n",
       "      <td>7</td>\n",
       "      <td>2017</td>\n",
       "      <td>2</td>\n",
       "      <td>1</td>\n",
       "      <td>...</td>\n",
       "      <td>0</td>\n",
       "      <td>C</td>\n",
       "      <td>Z</td>\n",
       "      <td>1</td>\n",
       "      <td>0</td>\n",
       "      <td>1</td>\n",
       "      <td>0</td>\n",
       "      <td>44.0</td>\n",
       "      <td>55.575419</td>\n",
       "      <td>23.0</td>\n",
       "    </tr>\n",
       "  </tbody>\n",
       "</table>\n",
       "<p>3 rows × 27 columns</p>\n",
       "</div>"
      ],
      "text/plain": [
       "   Unnamed: 0       DateTime  Junction           ID  WeekDay  Date  Month  \\\n",
       "0           0  7/1/2017 0:00         1  20170701001        1     1      7   \n",
       "1           1  7/1/2017 1:00         1  20170701011        1     1      7   \n",
       "2           2  7/1/2017 2:00         1  20170701021        1     1      7   \n",
       "\n",
       "   Year  Time  Sunday  ...   Weekday  Time_GRP  Month_GRP  Z  B  C  Y     0  \\\n",
       "0  2017     0       1  ...         0         C          Z  1  0  1  0  47.0   \n",
       "1  2017     1       1  ...         0         C          Z  1  0  1  0  53.0   \n",
       "2  2017     2       1  ...         0         C          Z  1  0  1  0  44.0   \n",
       "\n",
       "           0     0  \n",
       "0  54.946524  23.0  \n",
       "1  55.260972  23.0  \n",
       "2  55.575419  23.0  \n",
       "\n",
       "[3 rows x 27 columns]"
      ]
     },
     "execution_count": 440,
     "metadata": {},
     "output_type": "execute_result"
    }
   ],
   "source": [
    "X_J1_Pred = VehicleData_T1[['Date','Month','Year','Time','B','C','Weekend','Y','Z']]\n",
    "predtree1 = dtree1.predict(X_J1_Pred)\n",
    "predtreedf1 = pd.DataFrame(predtree1)\n",
    "predlm1 = lm1.predict(X_J1_Pred)\n",
    "predlmdf1 = pd.DataFrame(predlm1)\n",
    "predlog1 = logmodel1.predict(X_J1_Pred)\n",
    "predlogdf1 = pd.DataFrame(predlog1)\n",
    "##VehicleData_TP1 = pd.merge(VehicleData_T1,predtree1,predlm1,predlog1,how = 'inner',left_index = True, right_index = True)\n",
    "VehicleData_TP1 = pd.concat([VehicleData_T1,predtreedf1,predlmdf1,predlogdf1],axis=1)\n",
    "VehicleData_TP1.head(3)\n"
   ]
  },
  {
   "cell_type": "code",
   "execution_count": null,
   "metadata": {
    "collapsed": true
   },
   "outputs": [],
   "source": []
  },
  {
   "cell_type": "code",
   "execution_count": 445,
   "metadata": {},
   "outputs": [
    {
     "data": {
      "text/html": [
       "<div>\n",
       "<style>\n",
       "    .dataframe thead tr:only-child th {\n",
       "        text-align: right;\n",
       "    }\n",
       "\n",
       "    .dataframe thead th {\n",
       "        text-align: left;\n",
       "    }\n",
       "\n",
       "    .dataframe tbody tr th {\n",
       "        vertical-align: top;\n",
       "    }\n",
       "</style>\n",
       "<table border=\"1\" class=\"dataframe\">\n",
       "  <thead>\n",
       "    <tr style=\"text-align: right;\">\n",
       "      <th></th>\n",
       "      <th>Unnamed: 0</th>\n",
       "      <th>DateTime</th>\n",
       "      <th>Junction</th>\n",
       "      <th>ID</th>\n",
       "      <th>WeekDay</th>\n",
       "      <th>Date</th>\n",
       "      <th>Month</th>\n",
       "      <th>Year</th>\n",
       "      <th>Time</th>\n",
       "      <th>Sunday</th>\n",
       "      <th>...</th>\n",
       "      <th>Weekday</th>\n",
       "      <th>Time_GRP</th>\n",
       "      <th>Month_GRP</th>\n",
       "      <th>Z</th>\n",
       "      <th>B</th>\n",
       "      <th>C</th>\n",
       "      <th>Y</th>\n",
       "      <th>0</th>\n",
       "      <th>0</th>\n",
       "      <th>0</th>\n",
       "    </tr>\n",
       "  </thead>\n",
       "  <tbody>\n",
       "    <tr>\n",
       "      <th>0</th>\n",
       "      <td>2952</td>\n",
       "      <td>7/1/2017 0:00</td>\n",
       "      <td>2</td>\n",
       "      <td>20170701002</td>\n",
       "      <td>1</td>\n",
       "      <td>1</td>\n",
       "      <td>7</td>\n",
       "      <td>2017</td>\n",
       "      <td>0</td>\n",
       "      <td>1</td>\n",
       "      <td>...</td>\n",
       "      <td>0</td>\n",
       "      <td>C</td>\n",
       "      <td>Z</td>\n",
       "      <td>1</td>\n",
       "      <td>0</td>\n",
       "      <td>1</td>\n",
       "      <td>0</td>\n",
       "      <td>25.0</td>\n",
       "      <td>16.116014</td>\n",
       "      <td>8.0</td>\n",
       "    </tr>\n",
       "    <tr>\n",
       "      <th>1</th>\n",
       "      <td>2953</td>\n",
       "      <td>7/1/2017 1:00</td>\n",
       "      <td>2</td>\n",
       "      <td>20170701012</td>\n",
       "      <td>1</td>\n",
       "      <td>1</td>\n",
       "      <td>7</td>\n",
       "      <td>2017</td>\n",
       "      <td>1</td>\n",
       "      <td>1</td>\n",
       "      <td>...</td>\n",
       "      <td>0</td>\n",
       "      <td>C</td>\n",
       "      <td>Z</td>\n",
       "      <td>1</td>\n",
       "      <td>0</td>\n",
       "      <td>1</td>\n",
       "      <td>0</td>\n",
       "      <td>28.0</td>\n",
       "      <td>16.203276</td>\n",
       "      <td>8.0</td>\n",
       "    </tr>\n",
       "    <tr>\n",
       "      <th>2</th>\n",
       "      <td>2954</td>\n",
       "      <td>7/1/2017 2:00</td>\n",
       "      <td>2</td>\n",
       "      <td>20170701022</td>\n",
       "      <td>1</td>\n",
       "      <td>1</td>\n",
       "      <td>7</td>\n",
       "      <td>2017</td>\n",
       "      <td>2</td>\n",
       "      <td>1</td>\n",
       "      <td>...</td>\n",
       "      <td>0</td>\n",
       "      <td>C</td>\n",
       "      <td>Z</td>\n",
       "      <td>1</td>\n",
       "      <td>0</td>\n",
       "      <td>1</td>\n",
       "      <td>0</td>\n",
       "      <td>21.0</td>\n",
       "      <td>16.290538</td>\n",
       "      <td>8.0</td>\n",
       "    </tr>\n",
       "  </tbody>\n",
       "</table>\n",
       "<p>3 rows × 27 columns</p>\n",
       "</div>"
      ],
      "text/plain": [
       "   Unnamed: 0       DateTime  Junction           ID  WeekDay  Date  Month  \\\n",
       "0        2952  7/1/2017 0:00         2  20170701002        1     1      7   \n",
       "1        2953  7/1/2017 1:00         2  20170701012        1     1      7   \n",
       "2        2954  7/1/2017 2:00         2  20170701022        1     1      7   \n",
       "\n",
       "   Year  Time  Sunday ...   Weekday  Time_GRP  Month_GRP  Z  B  C  Y     0  \\\n",
       "0  2017     0       1 ...         0         C          Z  1  0  1  0  25.0   \n",
       "1  2017     1       1 ...         0         C          Z  1  0  1  0  28.0   \n",
       "2  2017     2       1 ...         0         C          Z  1  0  1  0  21.0   \n",
       "\n",
       "           0    0  \n",
       "0  16.116014  8.0  \n",
       "1  16.203276  8.0  \n",
       "2  16.290538  8.0  \n",
       "\n",
       "[3 rows x 27 columns]"
      ]
     },
     "execution_count": 445,
     "metadata": {},
     "output_type": "execute_result"
    }
   ],
   "source": [
    "X_J2_Pred = VehicleData_T2[['Date','Month','Year','Time','B','C','Weekend','Y','Z']]\n",
    "predtree2 = dtree2.predict(X_J2_Pred)\n",
    "predtreedf2 = pd.DataFrame(predtree2)\n",
    "predlm2 = lm2.predict(X_J2_Pred)\n",
    "predlmdf2 = pd.DataFrame(predlm2)\n",
    "predlog2 = logmodel2.predict(X_J2_Pred)\n",
    "predlogdf2 = pd.DataFrame(predlog2)\n",
    "##VehicleData_TP2 = pd.merge(VehicleData_T2,predtree2,predlm2,predlog2,how = 'inner',left_index = True, right_index = True)\n",
    "VehicleData_TP2 = pd.concat([VehicleData_T2,predtreedf2,predlmdf2,predlogdf2],axis=1)\n",
    "VehicleData_TP2.head(3)"
   ]
  },
  {
   "cell_type": "code",
   "execution_count": 446,
   "metadata": {},
   "outputs": [
    {
     "data": {
      "text/html": [
       "<div>\n",
       "<style>\n",
       "    .dataframe thead tr:only-child th {\n",
       "        text-align: right;\n",
       "    }\n",
       "\n",
       "    .dataframe thead th {\n",
       "        text-align: left;\n",
       "    }\n",
       "\n",
       "    .dataframe tbody tr th {\n",
       "        vertical-align: top;\n",
       "    }\n",
       "</style>\n",
       "<table border=\"1\" class=\"dataframe\">\n",
       "  <thead>\n",
       "    <tr style=\"text-align: right;\">\n",
       "      <th></th>\n",
       "      <th>Unnamed: 0</th>\n",
       "      <th>DateTime</th>\n",
       "      <th>Junction</th>\n",
       "      <th>ID</th>\n",
       "      <th>WeekDay</th>\n",
       "      <th>Date</th>\n",
       "      <th>Month</th>\n",
       "      <th>Year</th>\n",
       "      <th>Time</th>\n",
       "      <th>Sunday</th>\n",
       "      <th>...</th>\n",
       "      <th>Weekday</th>\n",
       "      <th>Time_GRP</th>\n",
       "      <th>Month_GRP</th>\n",
       "      <th>Z</th>\n",
       "      <th>B</th>\n",
       "      <th>C</th>\n",
       "      <th>Y</th>\n",
       "      <th>0</th>\n",
       "      <th>0</th>\n",
       "      <th>0</th>\n",
       "    </tr>\n",
       "  </thead>\n",
       "  <tbody>\n",
       "    <tr>\n",
       "      <th>0</th>\n",
       "      <td>5904</td>\n",
       "      <td>7/1/2017 0:00</td>\n",
       "      <td>3</td>\n",
       "      <td>20170701003</td>\n",
       "      <td>1</td>\n",
       "      <td>1</td>\n",
       "      <td>7</td>\n",
       "      <td>2017</td>\n",
       "      <td>0</td>\n",
       "      <td>1</td>\n",
       "      <td>...</td>\n",
       "      <td>0</td>\n",
       "      <td>C</td>\n",
       "      <td>Z</td>\n",
       "      <td>1</td>\n",
       "      <td>0</td>\n",
       "      <td>1</td>\n",
       "      <td>0</td>\n",
       "      <td>17.0</td>\n",
       "      <td>14.809013</td>\n",
       "      <td>11.0</td>\n",
       "    </tr>\n",
       "    <tr>\n",
       "      <th>1</th>\n",
       "      <td>5905</td>\n",
       "      <td>7/1/2017 1:00</td>\n",
       "      <td>3</td>\n",
       "      <td>20170701013</td>\n",
       "      <td>1</td>\n",
       "      <td>1</td>\n",
       "      <td>7</td>\n",
       "      <td>2017</td>\n",
       "      <td>1</td>\n",
       "      <td>1</td>\n",
       "      <td>...</td>\n",
       "      <td>0</td>\n",
       "      <td>C</td>\n",
       "      <td>Z</td>\n",
       "      <td>1</td>\n",
       "      <td>0</td>\n",
       "      <td>1</td>\n",
       "      <td>0</td>\n",
       "      <td>7.0</td>\n",
       "      <td>15.012281</td>\n",
       "      <td>11.0</td>\n",
       "    </tr>\n",
       "    <tr>\n",
       "      <th>2</th>\n",
       "      <td>5906</td>\n",
       "      <td>7/1/2017 2:00</td>\n",
       "      <td>3</td>\n",
       "      <td>20170701023</td>\n",
       "      <td>1</td>\n",
       "      <td>1</td>\n",
       "      <td>7</td>\n",
       "      <td>2017</td>\n",
       "      <td>2</td>\n",
       "      <td>1</td>\n",
       "      <td>...</td>\n",
       "      <td>0</td>\n",
       "      <td>C</td>\n",
       "      <td>Z</td>\n",
       "      <td>1</td>\n",
       "      <td>0</td>\n",
       "      <td>1</td>\n",
       "      <td>0</td>\n",
       "      <td>7.0</td>\n",
       "      <td>15.215548</td>\n",
       "      <td>11.0</td>\n",
       "    </tr>\n",
       "  </tbody>\n",
       "</table>\n",
       "<p>3 rows × 27 columns</p>\n",
       "</div>"
      ],
      "text/plain": [
       "   Unnamed: 0       DateTime  Junction           ID  WeekDay  Date  Month  \\\n",
       "0        5904  7/1/2017 0:00         3  20170701003        1     1      7   \n",
       "1        5905  7/1/2017 1:00         3  20170701013        1     1      7   \n",
       "2        5906  7/1/2017 2:00         3  20170701023        1     1      7   \n",
       "\n",
       "   Year  Time  Sunday  ...   Weekday  Time_GRP  Month_GRP  Z  B  C  Y     0  \\\n",
       "0  2017     0       1  ...         0         C          Z  1  0  1  0  17.0   \n",
       "1  2017     1       1  ...         0         C          Z  1  0  1  0   7.0   \n",
       "2  2017     2       1  ...         0         C          Z  1  0  1  0   7.0   \n",
       "\n",
       "           0     0  \n",
       "0  14.809013  11.0  \n",
       "1  15.012281  11.0  \n",
       "2  15.215548  11.0  \n",
       "\n",
       "[3 rows x 27 columns]"
      ]
     },
     "execution_count": 446,
     "metadata": {},
     "output_type": "execute_result"
    }
   ],
   "source": [
    "X_J3_Pred = VehicleData_T3[['Date','Month','Year','Time','B','C','Weekend','Y','Z']]\n",
    "predtree3 = dtree3.predict(X_J3_Pred)\n",
    "predtreedf3 = pd.DataFrame(predtree3)\n",
    "predlm3 = lm3.predict(X_J3_Pred)\n",
    "predlmdf3 = pd.DataFrame(predlm3)\n",
    "predlog3 = logmodel3.predict(X_J3_Pred)\n",
    "predlogdf3 = pd.DataFrame(predlog3)\n",
    "##VehicleData_TP3 = pd.merge(VehicleData_T3,predtree3,predlm3,predlog3,how = 'inner',left_index = True, right_index = True)\n",
    "VehicleData_TP3 = pd.concat([VehicleData_T3,predtreedf3,predlmdf3,predlogdf3],axis=1)\n",
    "VehicleData_TP3.head(3)"
   ]
  },
  {
   "cell_type": "code",
   "execution_count": 447,
   "metadata": {},
   "outputs": [
    {
     "data": {
      "text/html": [
       "<div>\n",
       "<style>\n",
       "    .dataframe thead tr:only-child th {\n",
       "        text-align: right;\n",
       "    }\n",
       "\n",
       "    .dataframe thead th {\n",
       "        text-align: left;\n",
       "    }\n",
       "\n",
       "    .dataframe tbody tr th {\n",
       "        vertical-align: top;\n",
       "    }\n",
       "</style>\n",
       "<table border=\"1\" class=\"dataframe\">\n",
       "  <thead>\n",
       "    <tr style=\"text-align: right;\">\n",
       "      <th></th>\n",
       "      <th>Unnamed: 0</th>\n",
       "      <th>DateTime</th>\n",
       "      <th>Junction</th>\n",
       "      <th>ID</th>\n",
       "      <th>WeekDay</th>\n",
       "      <th>Date</th>\n",
       "      <th>Month</th>\n",
       "      <th>Year</th>\n",
       "      <th>Time</th>\n",
       "      <th>Sunday</th>\n",
       "      <th>...</th>\n",
       "      <th>Weekday</th>\n",
       "      <th>Time_GRP</th>\n",
       "      <th>Month_GRP</th>\n",
       "      <th>Z</th>\n",
       "      <th>B</th>\n",
       "      <th>C</th>\n",
       "      <th>Y</th>\n",
       "      <th>0</th>\n",
       "      <th>0</th>\n",
       "      <th>0</th>\n",
       "    </tr>\n",
       "  </thead>\n",
       "  <tbody>\n",
       "    <tr>\n",
       "      <th>0</th>\n",
       "      <td>8856</td>\n",
       "      <td>7/1/2017 0:00</td>\n",
       "      <td>4</td>\n",
       "      <td>20170701004</td>\n",
       "      <td>1</td>\n",
       "      <td>1</td>\n",
       "      <td>7</td>\n",
       "      <td>2017</td>\n",
       "      <td>0</td>\n",
       "      <td>1</td>\n",
       "      <td>...</td>\n",
       "      <td>0</td>\n",
       "      <td>C</td>\n",
       "      <td>Z</td>\n",
       "      <td>1</td>\n",
       "      <td>0</td>\n",
       "      <td>1</td>\n",
       "      <td>0</td>\n",
       "      <td>5.0</td>\n",
       "      <td>7.917090</td>\n",
       "      <td>5.0</td>\n",
       "    </tr>\n",
       "    <tr>\n",
       "      <th>1</th>\n",
       "      <td>8857</td>\n",
       "      <td>7/1/2017 1:00</td>\n",
       "      <td>4</td>\n",
       "      <td>20170701014</td>\n",
       "      <td>1</td>\n",
       "      <td>1</td>\n",
       "      <td>7</td>\n",
       "      <td>2017</td>\n",
       "      <td>1</td>\n",
       "      <td>1</td>\n",
       "      <td>...</td>\n",
       "      <td>0</td>\n",
       "      <td>C</td>\n",
       "      <td>Z</td>\n",
       "      <td>1</td>\n",
       "      <td>0</td>\n",
       "      <td>1</td>\n",
       "      <td>0</td>\n",
       "      <td>5.0</td>\n",
       "      <td>7.988067</td>\n",
       "      <td>5.0</td>\n",
       "    </tr>\n",
       "    <tr>\n",
       "      <th>2</th>\n",
       "      <td>8858</td>\n",
       "      <td>7/1/2017 2:00</td>\n",
       "      <td>4</td>\n",
       "      <td>20170701024</td>\n",
       "      <td>1</td>\n",
       "      <td>1</td>\n",
       "      <td>7</td>\n",
       "      <td>2017</td>\n",
       "      <td>2</td>\n",
       "      <td>1</td>\n",
       "      <td>...</td>\n",
       "      <td>0</td>\n",
       "      <td>C</td>\n",
       "      <td>Z</td>\n",
       "      <td>1</td>\n",
       "      <td>0</td>\n",
       "      <td>1</td>\n",
       "      <td>0</td>\n",
       "      <td>4.0</td>\n",
       "      <td>8.059044</td>\n",
       "      <td>5.0</td>\n",
       "    </tr>\n",
       "    <tr>\n",
       "      <th>3</th>\n",
       "      <td>8859</td>\n",
       "      <td>7/1/2017 3:00</td>\n",
       "      <td>4</td>\n",
       "      <td>20170701034</td>\n",
       "      <td>1</td>\n",
       "      <td>1</td>\n",
       "      <td>7</td>\n",
       "      <td>2017</td>\n",
       "      <td>3</td>\n",
       "      <td>1</td>\n",
       "      <td>...</td>\n",
       "      <td>0</td>\n",
       "      <td>B</td>\n",
       "      <td>Z</td>\n",
       "      <td>1</td>\n",
       "      <td>1</td>\n",
       "      <td>0</td>\n",
       "      <td>0</td>\n",
       "      <td>1.0</td>\n",
       "      <td>5.963727</td>\n",
       "      <td>5.0</td>\n",
       "    </tr>\n",
       "  </tbody>\n",
       "</table>\n",
       "<p>4 rows × 27 columns</p>\n",
       "</div>"
      ],
      "text/plain": [
       "   Unnamed: 0       DateTime  Junction           ID  WeekDay  Date  Month  \\\n",
       "0        8856  7/1/2017 0:00         4  20170701004        1     1      7   \n",
       "1        8857  7/1/2017 1:00         4  20170701014        1     1      7   \n",
       "2        8858  7/1/2017 2:00         4  20170701024        1     1      7   \n",
       "3        8859  7/1/2017 3:00         4  20170701034        1     1      7   \n",
       "\n",
       "   Year  Time  Sunday ...   Weekday  Time_GRP  Month_GRP  Z  B  C  Y    0  \\\n",
       "0  2017     0       1 ...         0         C          Z  1  0  1  0  5.0   \n",
       "1  2017     1       1 ...         0         C          Z  1  0  1  0  5.0   \n",
       "2  2017     2       1 ...         0         C          Z  1  0  1  0  4.0   \n",
       "3  2017     3       1 ...         0         B          Z  1  1  0  0  1.0   \n",
       "\n",
       "          0    0  \n",
       "0  7.917090  5.0  \n",
       "1  7.988067  5.0  \n",
       "2  8.059044  5.0  \n",
       "3  5.963727  5.0  \n",
       "\n",
       "[4 rows x 27 columns]"
      ]
     },
     "execution_count": 447,
     "metadata": {},
     "output_type": "execute_result"
    }
   ],
   "source": [
    "X_J4_Pred = VehicleData_T4[['Date','Month','Year','Time','B','C','Weekend','Y','Z']]\n",
    "predtree4 = dtree4.predict(X_J4_Pred)\n",
    "predtreedf4 = pd.DataFrame(predtree4)\n",
    "predlm4 = lm4.predict(X_J4_Pred)\n",
    "predlmdf4 = pd.DataFrame(predlm4)\n",
    "predlog4 = logmodel4.predict(X_J4_Pred)\n",
    "predlogdf4 = pd.DataFrame(predlog4)\n",
    "##VehicleData_TP4 = pd.merge(VehicleData_T4,predtree4,predlm4,predlog4,how = 'inner',left_index = True, right_index = True)\n",
    "VehicleData_TP4 = pd.concat([VehicleData_T4,predtreedf4,predlmdf4,predlogdf4],axis=1)\n",
    "VehicleData_TP4.head(4)"
   ]
  },
  {
   "cell_type": "code",
   "execution_count": null,
   "metadata": {
    "collapsed": true
   },
   "outputs": [],
   "source": [
    "VehicleData_FINAL = pd.concat([VehicleData_TP1,VehicleData_TP2,VehicleData_TP3,VehicleData_TP4],axis=0)"
   ]
  },
  {
   "cell_type": "code",
   "execution_count": 448,
   "metadata": {
    "collapsed": true
   },
   "outputs": [],
   "source": [
    "VehicleData_T1.to_csv(\"T1.csv\")\n",
    "VehicleData_T2.to_csv(\"T2.csv\")\n",
    "VehicleData_T3.to_csv(\"T3.csv\")\n",
    "VehicleData_T4.to_csv(\"T4.csv\")\n",
    "pred4.to_csv(\"4.csv\")\n",
    "pred3.to_csv(\"3.csv\")\n",
    "pred2.to_csv(\"2.csv\")\n",
    "pred1.to_csv(\"1.csv\")"
   ]
  },
  {
   "cell_type": "code",
   "execution_count": null,
   "metadata": {
    "collapsed": true
   },
   "outputs": [],
   "source": [
    "VehicleData_TP1.to_csv(\"test1.csv\")"
   ]
  },
  {
   "cell_type": "code",
   "execution_count": 450,
   "metadata": {
    "collapsed": true
   },
   "outputs": [],
   "source": [
    "VehicleData_TP1.to_csv(\"TP1.csv\")\n",
    "VehicleData_TP2.to_csv(\"TP2.csv\")\n",
    "VehicleData_TP3.to_csv(\"TP3.csv\")\n",
    "VehicleData_TP4.to_csv(\"TP4.csv\")"
   ]
  },
  {
   "cell_type": "code",
   "execution_count": null,
   "metadata": {
    "collapsed": true
   },
   "outputs": [],
   "source": []
  }
 ],
 "metadata": {
  "kernelspec": {
   "display_name": "Python 2",
   "language": "python",
   "name": "python2"
  },
  "language_info": {
   "codemirror_mode": {
    "name": "ipython",
    "version": 2
   },
   "file_extension": ".py",
   "mimetype": "text/x-python",
   "name": "python",
   "nbconvert_exporter": "python",
   "pygments_lexer": "ipython2",
   "version": "2.7.13"
  }
 },
 "nbformat": 4,
 "nbformat_minor": 2
}
